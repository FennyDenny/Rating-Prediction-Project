{
 "cells": [
  {
   "cell_type": "code",
   "execution_count": 1,
   "id": "bd681ba5",
   "metadata": {},
   "outputs": [],
   "source": [
    "# Preprocessing\n",
    "import numpy as np\n",
    "import pandas as pd\n",
    "\n",
    "# Visualization\n",
    "import seaborn as sns\n",
    "import matplotlib.pyplot as plt\n",
    "import os\n",
    "import scipy as stats\n",
    "\n",
    "import nltk\n",
    "from nltk.corpus import stopwords\n",
    "import re\n",
    "import string\n",
    "from nltk import FreqDist\n",
    "from nltk.tokenize import word_tokenize\n",
    "from nltk.stem.wordnet import WordNetLemmatizer\n",
    "from nltk.corpus import wordnet\n",
    "from nltk import FreqDist\n",
    "\n",
    "# Evaluation Metrics\n",
    "from sklearn import metrics\n",
    "from sklearn.model_selection import cross_val_score\n",
    "from sklearn.model_selection import train_test_split\n",
    "from sklearn.metrics import classification_report,confusion_matrix\n",
    "from sklearn.metrics import roc_curve,accuracy_score,roc_auc_score,hamming_loss, log_loss\n",
    "\n",
    "# Warning\n",
    "import warnings\n",
    "%matplotlib inline\n",
    "warnings.filterwarnings('ignore')"
   ]
  },
  {
   "cell_type": "markdown",
   "id": "04a390c9",
   "metadata": {},
   "source": [
    "# Importing Scrapped Dataset:"
   ]
  },
  {
   "cell_type": "code",
   "execution_count": 2,
   "id": "abd4eab3",
   "metadata": {},
   "outputs": [
    {
     "data": {
      "text/html": [
       "<div>\n",
       "<style scoped>\n",
       "    .dataframe tbody tr th:only-of-type {\n",
       "        vertical-align: middle;\n",
       "    }\n",
       "\n",
       "    .dataframe tbody tr th {\n",
       "        vertical-align: top;\n",
       "    }\n",
       "\n",
       "    .dataframe thead th {\n",
       "        text-align: right;\n",
       "    }\n",
       "</style>\n",
       "<table border=\"1\" class=\"dataframe\">\n",
       "  <thead>\n",
       "    <tr style=\"text-align: right;\">\n",
       "      <th></th>\n",
       "      <th>Unnamed: 0</th>\n",
       "      <th>Review_Title</th>\n",
       "      <th>Review_Text</th>\n",
       "      <th>Ratings</th>\n",
       "    </tr>\n",
       "  </thead>\n",
       "  <tbody>\n",
       "    <tr>\n",
       "      <th>0</th>\n",
       "      <td>0</td>\n",
       "      <td>Ok laptop if u r not using more than 5-6 hrs a...</td>\n",
       "      <td>\\n  &amp;nbsp;This laptop is good only if u use a ...</td>\n",
       "      <td>2.0 out of 5 stars</td>\n",
       "    </tr>\n",
       "    <tr>\n",
       "      <th>1</th>\n",
       "      <td>1</td>\n",
       "      <td>No fingerprint reader</td>\n",
       "      <td>\\n  Fingerprint reader is a complete lie....no...</td>\n",
       "      <td>3.0 out of 5 stars</td>\n",
       "    </tr>\n",
       "    <tr>\n",
       "      <th>2</th>\n",
       "      <td>2</td>\n",
       "      <td>Built quality and software probleam.</td>\n",
       "      <td>\\n  I found some software probleam in this lap...</td>\n",
       "      <td>1.0 out of 5 stars</td>\n",
       "    </tr>\n",
       "    <tr>\n",
       "      <th>3</th>\n",
       "      <td>3</td>\n",
       "      <td>Sleekest Laptop at this price</td>\n",
       "      <td>\\n  Best laptop at this price. I have never se...</td>\n",
       "      <td>5.0 out of 5 stars</td>\n",
       "    </tr>\n",
       "    <tr>\n",
       "      <th>4</th>\n",
       "      <td>4</td>\n",
       "      <td>Best laptop at this price</td>\n",
       "      <td>\\n  &amp;nbsp;It's a great product go for it\\n</td>\n",
       "      <td>5.0 out of 5 stars</td>\n",
       "    </tr>\n",
       "    <tr>\n",
       "      <th>...</th>\n",
       "      <td>...</td>\n",
       "      <td>...</td>\n",
       "      <td>...</td>\n",
       "      <td>...</td>\n",
       "    </tr>\n",
       "    <tr>\n",
       "      <th>43776</th>\n",
       "      <td>43776</td>\n",
       "      <td>Worth every penny</td>\n",
       "      <td>This watch is sooo awesome 😎\\nI realy like the...</td>\n",
       "      <td>5</td>\n",
       "    </tr>\n",
       "    <tr>\n",
       "      <th>43777</th>\n",
       "      <td>43777</td>\n",
       "      <td>Terrific</td>\n",
       "      <td>best on this price 👏 👌</td>\n",
       "      <td>5</td>\n",
       "    </tr>\n",
       "    <tr>\n",
       "      <th>43778</th>\n",
       "      <td>43778</td>\n",
       "      <td>Pretty good</td>\n",
       "      <td>Nice one</td>\n",
       "      <td>4</td>\n",
       "    </tr>\n",
       "    <tr>\n",
       "      <th>43779</th>\n",
       "      <td>43779</td>\n",
       "      <td>Classy product</td>\n",
       "      <td>Very good product must buy at very least cost....</td>\n",
       "      <td>5</td>\n",
       "    </tr>\n",
       "    <tr>\n",
       "      <th>43780</th>\n",
       "      <td>43780</td>\n",
       "      <td>Delightful</td>\n",
       "      <td>Awesome Product 🤘🏻😎 unique Pic✌🏻</td>\n",
       "      <td>4</td>\n",
       "    </tr>\n",
       "  </tbody>\n",
       "</table>\n",
       "<p>43781 rows × 4 columns</p>\n",
       "</div>"
      ],
      "text/plain": [
       "       Unnamed: 0                                       Review_Title  \\\n",
       "0               0  Ok laptop if u r not using more than 5-6 hrs a...   \n",
       "1               1                              No fingerprint reader   \n",
       "2               2               Built quality and software probleam.   \n",
       "3               3                      Sleekest Laptop at this price   \n",
       "4               4                          Best laptop at this price   \n",
       "...           ...                                                ...   \n",
       "43776       43776                                  Worth every penny   \n",
       "43777       43777                                           Terrific   \n",
       "43778       43778                                        Pretty good   \n",
       "43779       43779                                     Classy product   \n",
       "43780       43780                                         Delightful   \n",
       "\n",
       "                                             Review_Text             Ratings  \n",
       "0      \\n  &nbsp;This laptop is good only if u use a ...  2.0 out of 5 stars  \n",
       "1      \\n  Fingerprint reader is a complete lie....no...  3.0 out of 5 stars  \n",
       "2      \\n  I found some software probleam in this lap...  1.0 out of 5 stars  \n",
       "3      \\n  Best laptop at this price. I have never se...  5.0 out of 5 stars  \n",
       "4             \\n  &nbsp;It's a great product go for it\\n  5.0 out of 5 stars  \n",
       "...                                                  ...                 ...  \n",
       "43776  This watch is sooo awesome 😎\\nI realy like the...                   5  \n",
       "43777                             best on this price 👏 👌                   5  \n",
       "43778                                           Nice one                   4  \n",
       "43779  Very good product must buy at very least cost....                   5  \n",
       "43780                   Awesome Product 🤘🏻😎 unique Pic✌🏻                   4  \n",
       "\n",
       "[43781 rows x 4 columns]"
      ]
     },
     "execution_count": 2,
     "metadata": {},
     "output_type": "execute_result"
    }
   ],
   "source": [
    "#Reading csv file \n",
    "df = pd.read_csv(\"R_P.csv\")\n",
    "df"
   ]
  },
  {
   "cell_type": "markdown",
   "id": "83a3f9d9",
   "metadata": {},
   "source": [
    "dataset we have about 43781 rows and 4 columns"
   ]
  },
  {
   "cell_type": "markdown",
   "id": "dab7705b",
   "metadata": {},
   "source": [
    "# Exploratory Data Analysis [EDA]:\n"
   ]
  },
  {
   "cell_type": "markdown",
   "id": "90185891",
   "metadata": {},
   "source": [
    "Since Unnamed: 0 is the index column of csv file so let's drop that column as it will not help us in our predictions."
   ]
  },
  {
   "cell_type": "code",
   "execution_count": 3,
   "id": "e95fee17",
   "metadata": {},
   "outputs": [],
   "source": [
    "# Dropping unnecessary column\n",
    "df.drop(columns = 'Unnamed: 0',inplace = True)"
   ]
  },
  {
   "cell_type": "code",
   "execution_count": 4,
   "id": "7aadaf29",
   "metadata": {},
   "outputs": [
    {
     "data": {
      "text/plain": [
       "(43781, 3)"
      ]
     },
     "execution_count": 4,
     "metadata": {},
     "output_type": "execute_result"
    }
   ],
   "source": [
    "# Checking the shape of the dataset\n",
    "df.shape"
   ]
  },
  {
   "cell_type": "code",
   "execution_count": 5,
   "id": "5f52f66b",
   "metadata": {},
   "outputs": [
    {
     "data": {
      "text/plain": [
       "Review_Title    5438\n",
       "Review_Text     5234\n",
       "Ratings         5437\n",
       "dtype: int64"
      ]
     },
     "execution_count": 5,
     "metadata": {},
     "output_type": "execute_result"
    }
   ],
   "source": [
    "# Checking the null values of the dataset\n",
    "df.isnull().sum()"
   ]
  },
  {
   "cell_type": "markdown",
   "id": "4ab0da13",
   "metadata": {},
   "source": [
    "So we have a huge number of nan values in the dataset. Let's replace them using imputation methods"
   ]
  },
  {
   "cell_type": "code",
   "execution_count": 6,
   "id": "ab53c924",
   "metadata": {},
   "outputs": [
    {
     "data": {
      "text/plain": [
       "Index(['Review_Title', 'Review_Text', 'Ratings'], dtype='object')"
      ]
     },
     "execution_count": 6,
     "metadata": {},
     "output_type": "execute_result"
    }
   ],
   "source": [
    "# Checking the column names in the dataset\n",
    "df.columns"
   ]
  },
  {
   "cell_type": "code",
   "execution_count": 7,
   "id": "698ffbbd",
   "metadata": {},
   "outputs": [
    {
     "name": "stdout",
     "output_type": "stream",
     "text": [
      "<class 'pandas.core.frame.DataFrame'>\n",
      "RangeIndex: 43781 entries, 0 to 43780\n",
      "Data columns (total 3 columns):\n",
      " #   Column        Non-Null Count  Dtype \n",
      "---  ------        --------------  ----- \n",
      " 0   Review_Title  38343 non-null  object\n",
      " 1   Review_Text   38547 non-null  object\n",
      " 2   Ratings       38344 non-null  object\n",
      "dtypes: object(3)\n",
      "memory usage: 1.0+ MB\n"
     ]
    }
   ],
   "source": [
    "# Let's check the info of the dataset\n",
    "df.info()"
   ]
  },
  {
   "cell_type": "markdown",
   "id": "ce245aab",
   "metadata": {},
   "source": [
    "By observing the info we can say that there are some null values in the dataset and all the columns are of object data type which means all the entries are string entries"
   ]
  },
  {
   "cell_type": "code",
   "execution_count": 8,
   "id": "03e6d91b",
   "metadata": {},
   "outputs": [
    {
     "data": {
      "image/png": "[encoded data removed]",
      "text/plain": [
       "<Figure size 849.6x595.44 with 2 Axes>"
      ]
     },
     "metadata": {},
     "output_type": "display_data"
    }
   ],
   "source": [
    "# Let's visualize the null values clearly in dataset using heat map\n",
    "sns.set(rc={'figure.figsize':(11.8,8.27)})\n",
    "sns.heatmap(data=df.isnull())\n",
    "plt.xticks(rotation=90, fontsize=10)\n",
    "plt.yticks(rotation=0, fontsize=10)\n",
    "plt.show()"
   ]
  },
  {
   "cell_type": "markdown",
   "id": "54f53c72",
   "metadata": {},
   "source": [
    "# Replacing nan values using imputation method:"
   ]
  },
  {
   "cell_type": "code",
   "execution_count": 9,
   "id": "fc75bcad",
   "metadata": {},
   "outputs": [
    {
     "data": {
      "text/plain": [
       "0    Wonderful\n",
       "dtype: object"
      ]
     },
     "execution_count": 9,
     "metadata": {},
     "output_type": "execute_result"
    }
   ],
   "source": [
    "#Checking the mode of Review_Title column\n",
    "df[\"Review_Title\"].mode()"
   ]
  },
  {
   "cell_type": "markdown",
   "id": "8a9a8ea2",
   "metadata": {},
   "source": [
    "So the highest occuring Review_Title is Wonderful, we have to replace the nan values in Review_Title column with it's mode."
   ]
  },
  {
   "cell_type": "code",
   "execution_count": 10,
   "id": "5a0fae83",
   "metadata": {},
   "outputs": [
    {
     "data": {
      "text/plain": [
       "0    Good\n",
       "dtype: object"
      ]
     },
     "execution_count": 10,
     "metadata": {},
     "output_type": "execute_result"
    }
   ],
   "source": [
    "#Checking the mode of Review_Text column\n",
    "df[\"Review_Text\"].mode()"
   ]
  },
  {
   "cell_type": "markdown",
   "id": "744d0c00",
   "metadata": {},
   "source": [
    "So the highest occuring Review_Text is Good, we have to replace the nan values in Review_Text column with it's mode"
   ]
  },
  {
   "cell_type": "code",
   "execution_count": 11,
   "id": "1167c503",
   "metadata": {},
   "outputs": [
    {
     "data": {
      "text/plain": [
       "5                     7499\n",
       "5.0 out of 5 stars    6235\n",
       "1.0 out of 5 stars    5687\n",
       "4.0 out of 5 stars    5364\n",
       "3.0 out of 5 stars    4859\n",
       "2.0 out of 5 stars    4417\n",
       "4                     2460\n",
       "3                      785\n",
       "1                      768\n",
       "2                      270\n",
       "Name: Ratings, dtype: int64"
      ]
     },
     "execution_count": 11,
     "metadata": {},
     "output_type": "execute_result"
    }
   ],
   "source": [
    "#Checking the value counts of Ratings column\n",
    "df.Ratings.value_counts()"
   ]
  },
  {
   "cell_type": "markdown",
   "id": "02d9a079",
   "metadata": {},
   "source": [
    "Since the highes count in Ratings column is for 5 followed by 5.0 out of 5 starts and they both are same so it is clear the mode for Ratings column is 5."
   ]
  },
  {
   "cell_type": "code",
   "execution_count": 12,
   "id": "09dbdee6",
   "metadata": {},
   "outputs": [
    {
     "data": {
      "text/plain": [
       "0    5\n",
       "dtype: object"
      ]
     },
     "execution_count": 12,
     "metadata": {},
     "output_type": "execute_result"
    }
   ],
   "source": [
    "#Checking the mode\n",
    "df[\"Ratings\"].mode()"
   ]
  },
  {
   "cell_type": "code",
   "execution_count": 13,
   "id": "1ebbb69d",
   "metadata": {},
   "outputs": [],
   "source": [
    "#Replacing nan values with there mode as all the columns are categorical\n",
    "df[\"Review_Title\"] = df[\"Review_Title\"].fillna(df[\"Review_Title\"].mode()[0])\n",
    "df[\"Review_Text\"] = df[\"Review_Text\"].fillna(df[\"Review_Text\"].mode()[0])\n",
    "df[\"Ratings\"] = df[\"Ratings\"].fillna(df[\"Ratings\"].mode()[0])"
   ]
  },
  {
   "cell_type": "code",
   "execution_count": 14,
   "id": "39fee55b",
   "metadata": {},
   "outputs": [
    {
     "data": {
      "text/plain": [
       "Review_Title    0\n",
       "Review_Text     0\n",
       "Ratings         0\n",
       "dtype: int64"
      ]
     },
     "execution_count": 14,
     "metadata": {},
     "output_type": "execute_result"
    }
   ],
   "source": [
    "df.isnull().sum()"
   ]
  },
  {
   "cell_type": "markdown",
   "id": "dffa68c2",
   "metadata": {},
   "source": [
    "Now successfully we have replaced all the nan values using imputation method."
   ]
  },
  {
   "cell_type": "code",
   "execution_count": 15,
   "id": "1bf62b54",
   "metadata": {},
   "outputs": [
    {
     "data": {
      "text/plain": [
       "array(['2.0 out of 5 stars', '3.0 out of 5 stars', '1.0 out of 5 stars',\n",
       "       '5.0 out of 5 stars', '4.0 out of 5 stars', '5', '4', '3', '1',\n",
       "       '2'], dtype=object)"
      ]
     },
     "execution_count": 15,
     "metadata": {},
     "output_type": "execute_result"
    }
   ],
   "source": [
    "# Checking the unique value count of target column\n",
    "df['Ratings'].unique()"
   ]
  },
  {
   "cell_type": "markdown",
   "id": "2ba94734",
   "metadata": {},
   "source": [
    "Looking the above entries in target column we came to know that we need to replace the string entries to there respective values(stars)."
   ]
  },
  {
   "cell_type": "code",
   "execution_count": 16,
   "id": "3f28cd47",
   "metadata": {},
   "outputs": [],
   "source": [
    "# Replacing the string entries in target column\n",
    "df['Ratings'] = df['Ratings'].replace('1.0 out of 5 stars',1)\n",
    "df['Ratings'] = df['Ratings'].replace('2.0 out of 5 stars',2)\n",
    "df['Ratings'] = df['Ratings'].replace('3.0 out of 5 stars',3)\n",
    "df['Ratings'] = df['Ratings'].replace('4.0 out of 5 stars',4)\n",
    "df['Ratings'] = df['Ratings'].replace('5.0 out of 5 stars',5)\n",
    "df['Ratings'] = df['Ratings'].astype('int')"
   ]
  },
  {
   "cell_type": "code",
   "execution_count": 17,
   "id": "842de78c",
   "metadata": {},
   "outputs": [
    {
     "data": {
      "text/plain": [
       "array([2, 3, 1, 5, 4])"
      ]
     },
     "execution_count": 17,
     "metadata": {},
     "output_type": "execute_result"
    }
   ],
   "source": [
    "df['Ratings'].unique()"
   ]
  },
  {
   "cell_type": "markdown",
   "id": "8856b7c3",
   "metadata": {},
   "source": [
    "Now the target column looks good for our analysis."
   ]
  },
  {
   "cell_type": "markdown",
   "id": "2480e5cc",
   "metadata": {},
   "source": [
    "# Now let's combine Review_Title and Review_Text to make a single column Review:"
   ]
  },
  {
   "cell_type": "code",
   "execution_count": 18,
   "id": "f7cfab6d",
   "metadata": {},
   "outputs": [],
   "source": [
    "# Combining Review text and title\n",
    "df['Review'] = df['Review_Title'].map(str)+' '+df['Review_Text']"
   ]
  },
  {
   "cell_type": "code",
   "execution_count": 19,
   "id": "ba438c2f",
   "metadata": {},
   "outputs": [
    {
     "data": {
      "text/html": [
       "<div>\n",
       "<style scoped>\n",
       "    .dataframe tbody tr th:only-of-type {\n",
       "        vertical-align: middle;\n",
       "    }\n",
       "\n",
       "    .dataframe tbody tr th {\n",
       "        vertical-align: top;\n",
       "    }\n",
       "\n",
       "    .dataframe thead th {\n",
       "        text-align: right;\n",
       "    }\n",
       "</style>\n",
       "<table border=\"1\" class=\"dataframe\">\n",
       "  <thead>\n",
       "    <tr style=\"text-align: right;\">\n",
       "      <th></th>\n",
       "      <th>Review_Title</th>\n",
       "      <th>Review_Text</th>\n",
       "      <th>Ratings</th>\n",
       "      <th>Review</th>\n",
       "    </tr>\n",
       "  </thead>\n",
       "  <tbody>\n",
       "    <tr>\n",
       "      <th>0</th>\n",
       "      <td>Ok laptop if u r not using more than 5-6 hrs a...</td>\n",
       "      <td>\\n  &amp;nbsp;This laptop is good only if u use a ...</td>\n",
       "      <td>2</td>\n",
       "      <td>Ok laptop if u r not using more than 5-6 hrs a...</td>\n",
       "    </tr>\n",
       "    <tr>\n",
       "      <th>1</th>\n",
       "      <td>No fingerprint reader</td>\n",
       "      <td>\\n  Fingerprint reader is a complete lie....no...</td>\n",
       "      <td>3</td>\n",
       "      <td>No fingerprint reader \\n  Fingerprint reader i...</td>\n",
       "    </tr>\n",
       "    <tr>\n",
       "      <th>2</th>\n",
       "      <td>Built quality and software probleam.</td>\n",
       "      <td>\\n  I found some software probleam in this lap...</td>\n",
       "      <td>1</td>\n",
       "      <td>Built quality and software probleam. \\n  I fou...</td>\n",
       "    </tr>\n",
       "    <tr>\n",
       "      <th>3</th>\n",
       "      <td>Sleekest Laptop at this price</td>\n",
       "      <td>\\n  Best laptop at this price. I have never se...</td>\n",
       "      <td>5</td>\n",
       "      <td>Sleekest Laptop at this price \\n  Best laptop ...</td>\n",
       "    </tr>\n",
       "    <tr>\n",
       "      <th>4</th>\n",
       "      <td>Best laptop at this price</td>\n",
       "      <td>\\n  &amp;nbsp;It's a great product go for it\\n</td>\n",
       "      <td>5</td>\n",
       "      <td>Best laptop at this price \\n  &amp;nbsp;It's a gre...</td>\n",
       "    </tr>\n",
       "    <tr>\n",
       "      <th>...</th>\n",
       "      <td>...</td>\n",
       "      <td>...</td>\n",
       "      <td>...</td>\n",
       "      <td>...</td>\n",
       "    </tr>\n",
       "    <tr>\n",
       "      <th>43776</th>\n",
       "      <td>Worth every penny</td>\n",
       "      <td>This watch is sooo awesome 😎\\nI realy like the...</td>\n",
       "      <td>5</td>\n",
       "      <td>Worth every penny This watch is sooo awesome 😎...</td>\n",
       "    </tr>\n",
       "    <tr>\n",
       "      <th>43777</th>\n",
       "      <td>Terrific</td>\n",
       "      <td>best on this price 👏 👌</td>\n",
       "      <td>5</td>\n",
       "      <td>Terrific best on this price 👏 👌</td>\n",
       "    </tr>\n",
       "    <tr>\n",
       "      <th>43778</th>\n",
       "      <td>Pretty good</td>\n",
       "      <td>Nice one</td>\n",
       "      <td>4</td>\n",
       "      <td>Pretty good Nice one</td>\n",
       "    </tr>\n",
       "    <tr>\n",
       "      <th>43779</th>\n",
       "      <td>Classy product</td>\n",
       "      <td>Very good product must buy at very least cost....</td>\n",
       "      <td>5</td>\n",
       "      <td>Classy product Very good product must buy at v...</td>\n",
       "    </tr>\n",
       "    <tr>\n",
       "      <th>43780</th>\n",
       "      <td>Delightful</td>\n",
       "      <td>Awesome Product 🤘🏻😎 unique Pic✌🏻</td>\n",
       "      <td>4</td>\n",
       "      <td>Delightful Awesome Product 🤘🏻😎 unique Pic✌🏻</td>\n",
       "    </tr>\n",
       "  </tbody>\n",
       "</table>\n",
       "<p>43781 rows × 4 columns</p>\n",
       "</div>"
      ],
      "text/plain": [
       "                                            Review_Title  \\\n",
       "0      Ok laptop if u r not using more than 5-6 hrs a...   \n",
       "1                                  No fingerprint reader   \n",
       "2                   Built quality and software probleam.   \n",
       "3                          Sleekest Laptop at this price   \n",
       "4                              Best laptop at this price   \n",
       "...                                                  ...   \n",
       "43776                                  Worth every penny   \n",
       "43777                                           Terrific   \n",
       "43778                                        Pretty good   \n",
       "43779                                     Classy product   \n",
       "43780                                         Delightful   \n",
       "\n",
       "                                             Review_Text  Ratings  \\\n",
       "0      \\n  &nbsp;This laptop is good only if u use a ...        2   \n",
       "1      \\n  Fingerprint reader is a complete lie....no...        3   \n",
       "2      \\n  I found some software probleam in this lap...        1   \n",
       "3      \\n  Best laptop at this price. I have never se...        5   \n",
       "4             \\n  &nbsp;It's a great product go for it\\n        5   \n",
       "...                                                  ...      ...   \n",
       "43776  This watch is sooo awesome 😎\\nI realy like the...        5   \n",
       "43777                             best on this price 👏 👌        5   \n",
       "43778                                           Nice one        4   \n",
       "43779  Very good product must buy at very least cost....        5   \n",
       "43780                   Awesome Product 🤘🏻😎 unique Pic✌🏻        4   \n",
       "\n",
       "                                                  Review  \n",
       "0      Ok laptop if u r not using more than 5-6 hrs a...  \n",
       "1      No fingerprint reader \\n  Fingerprint reader i...  \n",
       "2      Built quality and software probleam. \\n  I fou...  \n",
       "3      Sleekest Laptop at this price \\n  Best laptop ...  \n",
       "4      Best laptop at this price \\n  &nbsp;It's a gre...  \n",
       "...                                                  ...  \n",
       "43776  Worth every penny This watch is sooo awesome 😎...  \n",
       "43777                    Terrific best on this price 👏 👌  \n",
       "43778                               Pretty good Nice one  \n",
       "43779  Classy product Very good product must buy at v...  \n",
       "43780        Delightful Awesome Product 🤘🏻😎 unique Pic✌🏻  \n",
       "\n",
       "[43781 rows x 4 columns]"
      ]
     },
     "execution_count": 19,
     "metadata": {},
     "output_type": "execute_result"
    }
   ],
   "source": [
    "#let's have a look into our dataset\n",
    "df"
   ]
  },
  {
   "cell_type": "code",
   "execution_count": 20,
   "id": "74d4680b",
   "metadata": {},
   "outputs": [],
   "source": [
    "# Dropping unnecessary column\n",
    "df.drop(columns = 'Review_Title',inplace = True)\n",
    "df.drop(columns = 'Review_Text',inplace = True)"
   ]
  },
  {
   "cell_type": "markdown",
   "id": "b08bb06d",
   "metadata": {},
   "source": [
    "# Let's have a look into our Review column and see first 2 entries how the data looks:"
   ]
  },
  {
   "cell_type": "code",
   "execution_count": 21,
   "id": "2031cc9c",
   "metadata": {},
   "outputs": [
    {
     "data": {
      "text/plain": [
       "\"Ok laptop if u r not using more than 5-6 hrs a day \\n  &nbsp;This laptop is good only if u use a cooling pad  or else it get over heated when that happens it turns black and switchtches off so it's not good<br>Even for a student if ur attending classes more than 5-6 hrs it gets heated stuck and shuts down also it's not too fast initially it was very fast but then later became slow usable ram is 5.9 gb not 8gb also only 470gb storage if even the data Is just 30gb out of 470 it gets slow it is not for gaming<br>As soon as u update to windows 11 the laptop gets worse but at this rate it is ok and does its job there is a bit of anti glare not so effective screen brightness is not so good and charge holds good for 2 hrs max with internet<br>It's mic and sound is worst<br>For this rate u could go for someother laptops<br>But still it's managable<br>It boots fast ⏩ and the product is flimsy<br>and not sturdy the track pad is gone after 1 week even after using external mouse<br>Warranty is for 1 year and antivirus is for 1 month trial only !!<br>Overall this laptop is not the best in market<br>Other than these cons all other things are good in this laptop\\n\""
      ]
     },
     "execution_count": 21,
     "metadata": {},
     "output_type": "execute_result"
    }
   ],
   "source": [
    "# Checking data of first row in Review column\n",
    "df['Review'][0]"
   ]
  },
  {
   "cell_type": "code",
   "execution_count": 22,
   "id": "42a8c8df",
   "metadata": {},
   "outputs": [
    {
     "data": {
      "text/plain": [
       "'No fingerprint reader \\n  Fingerprint reader is a complete lie....nothing except a power button is available........THIS IS TRUE...i m not a paid reviewer.........took it in 51990 from flipkart\\n'"
      ]
     },
     "execution_count": 22,
     "metadata": {},
     "output_type": "execute_result"
    }
   ],
   "source": [
    "# Checking data of second row in Review column\n",
    "df['Review'][1]"
   ]
  },
  {
   "cell_type": "markdown",
   "id": "02b86812",
   "metadata": {},
   "source": [
    "# Text Processing:"
   ]
  },
  {
   "cell_type": "code",
   "execution_count": 23,
   "id": "0f5a15f3",
   "metadata": {},
   "outputs": [],
   "source": [
    "#Here I am defining a function to replace some of the contracted words to their full form and removing urls and some unwanted text \n",
    "def decontracted(text):\n",
    "    text = re.sub(r\"won't\", \"will not\", text)\n",
    "    text = re.sub(r\"don’t\", \"do not\", text)\n",
    "    text = re.sub(r\"can't\", \"can not\", text)\n",
    "    text = re.sub(r\"im \", \"i am\", text)\n",
    "    text = re.sub(r\"yo \", \"you \",text)\n",
    "    text = re.sub(r\"doesn’t\", \"does not\",text)\n",
    "    text = re.sub(r\"n\\'t\", \" not\", text)\n",
    "    text = re.sub(r\"\\'re\", \" are\", text)\n",
    "    text = re.sub(r\"\\'s\", \" is\", text)\n",
    "    text = re.sub(r\"\\'d\", \" would\", text)\n",
    "    text = re.sub(r\"\\'ll\", \" will\", text)\n",
    "    text = re.sub(r\"\\'t\", \" not\", text)\n",
    "    text = re.sub(r\"\\'ve\", \" have\", text)\n",
    "    text = re.sub(r\"\\'m\", \" am\", text)\n",
    "    text = re.sub(r\"<br>\", \" \", text)\n",
    "    text = re.sub(r'http\\S+', '', text) #removing urls\n",
    "    return text"
   ]
  },
  {
   "cell_type": "code",
   "execution_count": 24,
   "id": "96eb3500",
   "metadata": {},
   "outputs": [],
   "source": [
    "# Changing all words to there Lowercase\n",
    "df['Review'] = df['Review'].apply(lambda x : x.lower())\n",
    "\n",
    "df['Review'] = df['Review'].apply(lambda x : decontracted(x))\n",
    "\n",
    "# Removing punctuations\n",
    "df['Review'] = df['Review'].str.replace('[^\\w\\s]','')\n",
    "df['Review'] = df['Review'].str.replace('\\n',' ')"
   ]
  },
  {
   "cell_type": "markdown",
   "id": "56b3846c",
   "metadata": {},
   "source": [
    "# Let's have a look into our text again:"
   ]
  },
  {
   "cell_type": "code",
   "execution_count": 25,
   "id": "d497f489",
   "metadata": {},
   "outputs": [
    {
     "data": {
      "text/plain": [
       "'ok laptop if u r not using more than 56 hrs a day    nbspthis laptop is good only if u use a cooling pad  or else it get over heated when that happens it turns black and switchtches off so it is not good even for a student if ur attending classes more than 56 hrs it gets heated stuck and shuts down also it is not too fast initially it was very fast but then later became slow usable ram is 59 gb not 8gb also only 470gb storage if even the data is just 30gb out of 470 it gets slow it is not for gaming as soon as u update to windows 11 the laptop gets worse but at this rate it is ok and does its job there is a bit of anti glare not so effective screen brightness is not so good and charge holds good for 2 hrs max with internet it is mic and sound is worst for this rate u could go for someother laptops but still it is managable it boots fast  and the product is flimsy and not sturdy the track pad is gone after 1 week even after using external mouse warranty is for 1 year and antivirus is for 1 month trial only  overall this laptop is not the best in market other than these cons all other things are good in this laptop '"
      ]
     },
     "execution_count": 25,
     "metadata": {},
     "output_type": "execute_result"
    }
   ],
   "source": [
    "# Checking data of first row in Review column again\n",
    "df['Review'][0]"
   ]
  },
  {
   "cell_type": "code",
   "execution_count": 26,
   "id": "3a82577b",
   "metadata": {},
   "outputs": [
    {
     "data": {
      "text/plain": [
       "'no fingerprint reader    fingerprint reader is a complete lienothing except a power button is availablethis is truei m not a paid reviewertook it in 51990 from flipkart '"
      ]
     },
     "execution_count": 26,
     "metadata": {},
     "output_type": "execute_result"
    }
   ],
   "source": [
    "# Checking data of second row in Review column again\n",
    "df['Review'][1]"
   ]
  },
  {
   "cell_type": "markdown",
   "id": "7cf675d1",
   "metadata": {},
   "source": [
    "# Removing StopWords:"
   ]
  },
  {
   "cell_type": "code",
   "execution_count": 27,
   "id": "901a1797",
   "metadata": {},
   "outputs": [],
   "source": [
    "# Removing stopwords\n",
    "stop = stopwords.words('english')\n",
    "df['Review'] = df['Review'].apply(lambda x: ' '.join([word for word in x.split() if word not in (stop)]))"
   ]
  },
  {
   "cell_type": "code",
   "execution_count": 28,
   "id": "99d23192",
   "metadata": {},
   "outputs": [
    {
     "data": {
      "text/plain": [
       "'ok laptop u r using 56 hrs day nbspthis laptop good u use cooling pad else get heated happens turns black switchtches good even student ur attending classes 56 hrs gets heated stuck shuts also fast initially fast later became slow usable ram 59 gb 8gb also 470gb storage even data 30gb 470 gets slow gaming soon u update windows 11 laptop gets worse rate ok job bit anti glare effective screen brightness good charge holds good 2 hrs max internet mic sound worst rate u could go someother laptops still managable boots fast product flimsy sturdy track pad gone 1 week even using external mouse warranty 1 year antivirus 1 month trial overall laptop best market cons things good laptop'"
      ]
     },
     "execution_count": 28,
     "metadata": {},
     "output_type": "execute_result"
    }
   ],
   "source": [
    "# Checking the text data again\n",
    "df['Review'][0]"
   ]
  },
  {
   "cell_type": "code",
   "execution_count": 29,
   "id": "6c7442c7",
   "metadata": {},
   "outputs": [
    {
     "data": {
      "text/plain": [
       "'fingerprint reader fingerprint reader complete lienothing except power button availablethis truei paid reviewertook 51990 flipkart'"
      ]
     },
     "execution_count": 29,
     "metadata": {},
     "output_type": "execute_result"
    }
   ],
   "source": [
    "# Checking the text data again\n",
    "df['Review'][1]"
   ]
  },
  {
   "cell_type": "markdown",
   "id": "273c6165",
   "metadata": {},
   "source": [
    "# Lemmatization:"
   ]
  },
  {
   "cell_type": "code",
   "execution_count": 30,
   "id": "598454a5",
   "metadata": {},
   "outputs": [],
   "source": [
    "#Initialising lemmatizer\n",
    "lemmatizer = nltk.stem.WordNetLemmatizer()\n",
    "from nltk.corpus import wordnet"
   ]
  },
  {
   "cell_type": "code",
   "execution_count": 31,
   "id": "0ac94100",
   "metadata": {},
   "outputs": [
    {
     "name": "stderr",
     "output_type": "stream",
     "text": [
      "[nltk_data] Downloading package averaged_perceptron_tagger to\n",
      "[nltk_data]     C:\\Users\\Admin\\AppData\\Roaming\\nltk_data...\n",
      "[nltk_data]   Package averaged_perceptron_tagger is already up-to-\n",
      "[nltk_data]       date!\n"
     ]
    },
    {
     "data": {
      "text/plain": [
       "True"
      ]
     },
     "execution_count": 31,
     "metadata": {},
     "output_type": "execute_result"
    }
   ],
   "source": [
    "import nltk\n",
    "nltk.download('averaged_perceptron_tagger')"
   ]
  },
  {
   "cell_type": "code",
   "execution_count": 32,
   "id": "dc040f38",
   "metadata": {},
   "outputs": [],
   "source": [
    "#Defining functiom to convert nltk tag to wordnet tags\n",
    "def nltk_tag_to_wordnet_tag(nltk_tag):\n",
    "    if nltk_tag.startswith('J'):\n",
    "        return wordnet.ADJ\n",
    "    elif nltk_tag.startswith('V'):\n",
    "        return wordnet.VERB\n",
    "    elif nltk_tag.startswith('N'):\n",
    "        return wordnet.NOUN\n",
    "    elif nltk_tag.startswith('R'):\n",
    "        return wordnet.ADV\n",
    "    else:\n",
    "        return None"
   ]
  },
  {
   "cell_type": "code",
   "execution_count": 33,
   "id": "3b4f7ee7",
   "metadata": {},
   "outputs": [],
   "source": [
    "#defining function to lemmatize our text\n",
    "def lemmatize_sentence(sentence):\n",
    "    #tokenize the sentence & find the pos tag\n",
    "    nltk_tagged = nltk.pos_tag(nltk.word_tokenize(sentence))\n",
    "    #tuple of (token, wordnet_tag)\n",
    "    wordnet_tagged = map(lambda x : (x[0], nltk_tag_to_wordnet_tag(x[1])), nltk_tagged)\n",
    "    lemmatize_sentence = []\n",
    "    for word, tag in wordnet_tagged:\n",
    "        if tag is None:\n",
    "            lemmatize_sentence.append(word)\n",
    "        else:\n",
    "            lemmatize_sentence.append(lemmatizer.lemmatize(word,tag))\n",
    "    return \" \".join(lemmatize_sentence)"
   ]
  },
  {
   "cell_type": "code",
   "execution_count": 34,
   "id": "a74b29f2",
   "metadata": {},
   "outputs": [],
   "source": [
    "#df['Review'] = df['Review'].apply(lambda x : lemmatize_sentence(x))"
   ]
  },
  {
   "cell_type": "code",
   "execution_count": 35,
   "id": "fa694460",
   "metadata": {},
   "outputs": [
    {
     "data": {
      "text/plain": [
       "'ok laptop u r using 56 hrs day nbspthis laptop good u use cooling pad else get heated happens turns black switchtches good even student ur attending classes 56 hrs gets heated stuck shuts also fast initially fast later became slow usable ram 59 gb 8gb also 470gb storage even data 30gb 470 gets slow gaming soon u update windows 11 laptop gets worse rate ok job bit anti glare effective screen brightness good charge holds good 2 hrs max internet mic sound worst rate u could go someother laptops still managable boots fast product flimsy sturdy track pad gone 1 week even using external mouse warranty 1 year antivirus 1 month trial overall laptop best market cons things good laptop'"
      ]
     },
     "execution_count": 35,
     "metadata": {},
     "output_type": "execute_result"
    }
   ],
   "source": [
    "# Checking the text data again\n",
    "df['Review'][0]"
   ]
  },
  {
   "cell_type": "code",
   "execution_count": 36,
   "id": "a0a4f114",
   "metadata": {},
   "outputs": [
    {
     "data": {
      "text/plain": [
       "'fingerprint reader fingerprint reader complete lienothing except power button availablethis truei paid reviewertook 51990 flipkart'"
      ]
     },
     "execution_count": 36,
     "metadata": {},
     "output_type": "execute_result"
    }
   ],
   "source": [
    "# Checking the text data again\n",
    "df['Review'][1]"
   ]
  },
  {
   "cell_type": "markdown",
   "id": "f2f1e8d9",
   "metadata": {},
   "source": [
    "# Text Normalization - Standardization:"
   ]
  },
  {
   "cell_type": "code",
   "execution_count": 37,
   "id": "88539563",
   "metadata": {},
   "outputs": [],
   "source": [
    "#Noice removal\n",
    "def scrub_words(text):\n",
    "    #remove html markup\n",
    "    text = re.sub(\"(<.*?>)\", \"\", text)\n",
    "    #remove non-ascii and digits\n",
    "    text = re.sub(\"(\\\\W)\", \" \", text)\n",
    "    text = re.sub(\"(\\\\d)\", \"\", text)\n",
    "    #remove white space\n",
    "    text = text.strip()\n",
    "    return text"
   ]
  },
  {
   "cell_type": "code",
   "execution_count": 38,
   "id": "c4f8c332",
   "metadata": {},
   "outputs": [],
   "source": [
    "df['Review'] = df['Review'].apply(lambda x : scrub_words(x))"
   ]
  },
  {
   "cell_type": "code",
   "execution_count": 39,
   "id": "3731fc24",
   "metadata": {},
   "outputs": [
    {
     "data": {
      "text/plain": [
       "'ok laptop u r using  hrs day nbspthis laptop good u use cooling pad else get heated happens turns black switchtches good even student ur attending classes  hrs gets heated stuck shuts also fast initially fast later became slow usable ram  gb gb also gb storage even data gb  gets slow gaming soon u update windows  laptop gets worse rate ok job bit anti glare effective screen brightness good charge holds good  hrs max internet mic sound worst rate u could go someother laptops still managable boots fast product flimsy sturdy track pad gone  week even using external mouse warranty  year antivirus  month trial overall laptop best market cons things good laptop'"
      ]
     },
     "execution_count": 39,
     "metadata": {},
     "output_type": "execute_result"
    }
   ],
   "source": [
    "# Checking the text data again\n",
    "df['Review'][0]"
   ]
  },
  {
   "cell_type": "code",
   "execution_count": 40,
   "id": "1378761e",
   "metadata": {},
   "outputs": [
    {
     "data": {
      "text/plain": [
       "'fingerprint reader fingerprint reader complete lienothing except power button availablethis truei paid reviewertook  flipkart'"
      ]
     },
     "execution_count": 40,
     "metadata": {},
     "output_type": "execute_result"
    }
   ],
   "source": [
    "# Checking the text data again\n",
    "df['Review'][1]"
   ]
  },
  {
   "cell_type": "markdown",
   "id": "e17e0b78",
   "metadata": {},
   "source": [
    "# Visualization:"
   ]
  },
  {
   "cell_type": "code",
   "execution_count": 41,
   "id": "fc1a47b1",
   "metadata": {},
   "outputs": [
    {
     "data": {
      "text/html": [
       "<div>\n",
       "<style scoped>\n",
       "    .dataframe tbody tr th:only-of-type {\n",
       "        vertical-align: middle;\n",
       "    }\n",
       "\n",
       "    .dataframe tbody tr th {\n",
       "        vertical-align: top;\n",
       "    }\n",
       "\n",
       "    .dataframe thead th {\n",
       "        text-align: right;\n",
       "    }\n",
       "</style>\n",
       "<table border=\"1\" class=\"dataframe\">\n",
       "  <thead>\n",
       "    <tr style=\"text-align: right;\">\n",
       "      <th></th>\n",
       "      <th>Review_WordCount</th>\n",
       "      <th>Review</th>\n",
       "    </tr>\n",
       "  </thead>\n",
       "  <tbody>\n",
       "    <tr>\n",
       "      <th>0</th>\n",
       "      <td>121</td>\n",
       "      <td>ok laptop u r using  hrs day nbspthis laptop g...</td>\n",
       "    </tr>\n",
       "    <tr>\n",
       "      <th>1</th>\n",
       "      <td>15</td>\n",
       "      <td>fingerprint reader fingerprint reader complete...</td>\n",
       "    </tr>\n",
       "    <tr>\n",
       "      <th>2</th>\n",
       "      <td>15</td>\n",
       "      <td>built quality software probleam found software...</td>\n",
       "    </tr>\n",
       "    <tr>\n",
       "      <th>3</th>\n",
       "      <td>34</td>\n",
       "      <td>sleekest laptop price best laptop price never ...</td>\n",
       "    </tr>\n",
       "    <tr>\n",
       "      <th>4</th>\n",
       "      <td>7</td>\n",
       "      <td>best laptop price nbspit great product go</td>\n",
       "    </tr>\n",
       "  </tbody>\n",
       "</table>\n",
       "</div>"
      ],
      "text/plain": [
       "   Review_WordCount                                             Review\n",
       "0               121  ok laptop u r using  hrs day nbspthis laptop g...\n",
       "1                15  fingerprint reader fingerprint reader complete...\n",
       "2                15  built quality software probleam found software...\n",
       "3                34  sleekest laptop price best laptop price never ...\n",
       "4                 7          best laptop price nbspit great product go"
      ]
     },
     "execution_count": 41,
     "metadata": {},
     "output_type": "execute_result"
    }
   ],
   "source": [
    "# Creating column for word counts in the text\n",
    "df['Review_WordCount'] = df['Review'].apply(lambda x: len(str(x).split(' ')))\n",
    "df[['Review_WordCount','Review']].head()"
   ]
  },
  {
   "cell_type": "code",
   "execution_count": 42,
   "id": "11ea6eab",
   "metadata": {},
   "outputs": [
    {
     "data": {
      "image/png": "[encoded data removed]",
      "text/plain": [
       "<Figure size 849.6x595.44 with 1 Axes>"
      ]
     },
     "metadata": {},
     "output_type": "display_data"
    }
   ],
   "source": [
    "# density plot and histogram of Review word count\n",
    "sns.distplot(df['Review_WordCount'], hist = True, kde = True,\n",
    "            bins = int(180/5), color = 'g',\n",
    "            hist_kws = {'edgecolor':'black'},\n",
    "            kde_kws = {'linewidth':4})\n",
    "plt.show()"
   ]
  },
  {
   "cell_type": "markdown",
   "id": "4c616a4c",
   "metadata": {},
   "source": [
    "By observing the histogram we can clearly see that most of our text is having the number of words in the range of 0 to 200, But some of the reviews are too lengthy which may act like outliers in our data"
   ]
  },
  {
   "cell_type": "markdown",
   "id": "6c49458e",
   "metadata": {},
   "source": [
    "# Character count:"
   ]
  },
  {
   "cell_type": "code",
   "execution_count": 43,
   "id": "dcf3543a",
   "metadata": {},
   "outputs": [
    {
     "data": {
      "text/html": [
       "<div>\n",
       "<style scoped>\n",
       "    .dataframe tbody tr th:only-of-type {\n",
       "        vertical-align: middle;\n",
       "    }\n",
       "\n",
       "    .dataframe tbody tr th {\n",
       "        vertical-align: top;\n",
       "    }\n",
       "\n",
       "    .dataframe thead th {\n",
       "        text-align: right;\n",
       "    }\n",
       "</style>\n",
       "<table border=\"1\" class=\"dataframe\">\n",
       "  <thead>\n",
       "    <tr style=\"text-align: right;\">\n",
       "      <th></th>\n",
       "      <th>Review_ChaCount</th>\n",
       "      <th>Review</th>\n",
       "    </tr>\n",
       "  </thead>\n",
       "  <tbody>\n",
       "    <tr>\n",
       "      <th>0</th>\n",
       "      <td>663</td>\n",
       "      <td>ok laptop u r using  hrs day nbspthis laptop g...</td>\n",
       "    </tr>\n",
       "    <tr>\n",
       "      <th>1</th>\n",
       "      <td>125</td>\n",
       "      <td>fingerprint reader fingerprint reader complete...</td>\n",
       "    </tr>\n",
       "    <tr>\n",
       "      <th>2</th>\n",
       "      <td>119</td>\n",
       "      <td>built quality software probleam found software...</td>\n",
       "    </tr>\n",
       "    <tr>\n",
       "      <th>3</th>\n",
       "      <td>222</td>\n",
       "      <td>sleekest laptop price best laptop price never ...</td>\n",
       "    </tr>\n",
       "    <tr>\n",
       "      <th>4</th>\n",
       "      <td>41</td>\n",
       "      <td>best laptop price nbspit great product go</td>\n",
       "    </tr>\n",
       "  </tbody>\n",
       "</table>\n",
       "</div>"
      ],
      "text/plain": [
       "   Review_ChaCount                                             Review\n",
       "0              663  ok laptop u r using  hrs day nbspthis laptop g...\n",
       "1              125  fingerprint reader fingerprint reader complete...\n",
       "2              119  built quality software probleam found software...\n",
       "3              222  sleekest laptop price best laptop price never ...\n",
       "4               41          best laptop price nbspit great product go"
      ]
     },
     "execution_count": 43,
     "metadata": {},
     "output_type": "execute_result"
    }
   ],
   "source": [
    "# Creating column for character counts in the text\n",
    "df['Review_ChaCount'] = df['Review'].str.len()\n",
    "df[['Review_ChaCount','Review']].head()"
   ]
  },
  {
   "cell_type": "code",
   "execution_count": 44,
   "id": "b3663190",
   "metadata": {},
   "outputs": [
    {
     "data": {
      "image/png": "[encoded data removed]",
      "text/plain": [
       "<Figure size 849.6x595.44 with 1 Axes>"
      ]
     },
     "metadata": {},
     "output_type": "display_data"
    }
   ],
   "source": [
    "# density plot and histogram of all character count\n",
    "sns.distplot(df['Review_ChaCount'], hist = True, kde = True,\n",
    "            bins = int(180/5), color = 'r',\n",
    "            hist_kws = {'edgecolor':'black'},\n",
    "            kde_kws = {'linewidth':4})\n",
    "plt.show()"
   ]
  },
  {
   "cell_type": "markdown",
   "id": "75756340",
   "metadata": {},
   "source": [
    "Above plot represents histogram for character count of Review text, which is quite similar to the histogram of word count."
   ]
  },
  {
   "cell_type": "markdown",
   "id": "68325889",
   "metadata": {},
   "source": [
    "# Removing Outliers:"
   ]
  },
  {
   "cell_type": "code",
   "execution_count": 45,
   "id": "ebe624d0",
   "metadata": {},
   "outputs": [
    {
     "data": {
      "text/plain": [
       "(43781, 4)"
      ]
     },
     "execution_count": 45,
     "metadata": {},
     "output_type": "execute_result"
    }
   ],
   "source": [
    "#Checking the shape of the dataset\n",
    "df.shape"
   ]
  },
  {
   "cell_type": "code",
   "execution_count": 46,
   "id": "7e54d385",
   "metadata": {},
   "outputs": [
    {
     "data": {
      "text/plain": [
       "(43124, 4)"
      ]
     },
     "execution_count": 46,
     "metadata": {},
     "output_type": "execute_result"
    }
   ],
   "source": [
    "# Applying zscore to remove outliers\n",
    "from scipy import stats\n",
    "from scipy.stats import zscore\n",
    "z_score = zscore(df[['Review_WordCount']])\n",
    "abs_z_score = np.abs(z_score)\n",
    "filtering_entry = (abs_z_score < 3).all(axis = 1)\n",
    "df = df[filtering_entry]\n",
    "df.shape"
   ]
  },
  {
   "cell_type": "markdown",
   "id": "265840e7",
   "metadata": {},
   "source": [
    "# Plotting histograms for word count and character counts again after removing outliers:"
   ]
  },
  {
   "cell_type": "code",
   "execution_count": 47,
   "id": "d4a55918",
   "metadata": {},
   "outputs": [
    {
     "data": {
      "image/png": "[encoded data removed]",
      "text/plain": [
       "<Figure size 849.6x595.44 with 1 Axes>"
      ]
     },
     "metadata": {},
     "output_type": "display_data"
    }
   ],
   "source": [
    "# density plot and histogram of Review word count\n",
    "sns.distplot(df['Review_WordCount'], hist = True, kde = True,\n",
    "            bins = int(180/5), color = 'y',\n",
    "            hist_kws = {'edgecolor':'black'},\n",
    "            kde_kws = {'linewidth':4})\n",
    "plt.show()"
   ]
  },
  {
   "cell_type": "code",
   "execution_count": 48,
   "id": "7008f2ac",
   "metadata": {},
   "outputs": [
    {
     "data": {
      "image/png": "[encoded data removed]",
      "text/plain": [
       "<Figure size 849.6x595.44 with 1 Axes>"
      ]
     },
     "metadata": {},
     "output_type": "display_data"
    }
   ],
   "source": [
    "# density plot and histogram of all character count\n",
    "sns.distplot(df['Review_ChaCount'], hist = True, kde = True,\n",
    "            bins = int(180/5), color = 'darkblue',\n",
    "            hist_kws = {'edgecolor':'black'},\n",
    "            kde_kws = {'linewidth':4})\n",
    "plt.show()"
   ]
  },
  {
   "cell_type": "markdown",
   "id": "1490ec96",
   "metadata": {},
   "source": [
    "After plotting histograms for word counts and character counts and after removing outliers we can see we are left out with good range of number of words and characters."
   ]
  },
  {
   "cell_type": "markdown",
   "id": "7e8c7f2f",
   "metadata": {},
   "source": [
    "# Top 30 most frequently occuring words:"
   ]
  },
  {
   "cell_type": "code",
   "execution_count": 49,
   "id": "861b494b",
   "metadata": {},
   "outputs": [],
   "source": [
    "#importing nltk libraries\n",
    "import nltk\n",
    "from nltk.corpus import stopwords\n",
    "import re\n",
    "import string\n",
    "from nltk import FreqDist\n",
    "from nltk.tokenize import word_tokenize\n",
    "from nltk.stem.wordnet import WordNetLemmatizer\n",
    "from nltk.corpus import wordnet\n",
    "from nltk import FreqDist"
   ]
  },
  {
   "cell_type": "code",
   "execution_count": 50,
   "id": "e2e581f2",
   "metadata": {},
   "outputs": [],
   "source": [
    "#function to plot most frequent terms\n",
    "def freq_words(x, terms = 30):\n",
    "    all_words = ' '.join([text for text in x])\n",
    "    all_words = all_words.split()\n",
    "    fdist = FreqDist(all_words)\n",
    "    words_df = pd.DataFrame({'word':list(fdist.keys()),\n",
    "                             'count':list(fdist.values())})\n",
    "    #selecting top 30 most freq words\n",
    "    d = words_df.nlargest(columns = 'count', n = terms)\n",
    "    plt.figure(figsize = (20,10))\n",
    "    ax = sns.barplot(data = d, x='count', y='word')\n",
    "    ax.set(ylabel = 'Word')\n",
    "    plt.show()"
   ]
  },
  {
   "cell_type": "code",
   "execution_count": 51,
   "id": "61fdc487",
   "metadata": {},
   "outputs": [
    {
     "data": {
      "image/png": "[encoded data removed]",
      "text/plain": [
       "<Figure size 1440x720 with 1 Axes>"
      ]
     },
     "metadata": {},
     "output_type": "display_data"
    }
   ],
   "source": [
    "freq_words(df['Review'])"
   ]
  },
  {
   "cell_type": "markdown",
   "id": "1c63b767",
   "metadata": {},
   "source": [
    "By seeing the above plot we can see that Good, prodout, quality......are occurring frequently."
   ]
  },
  {
   "cell_type": "markdown",
   "id": "c954917b",
   "metadata": {},
   "source": [
    "# Top 30 Rare words:"
   ]
  },
  {
   "cell_type": "code",
   "execution_count": 52,
   "id": "3f4cdbd2",
   "metadata": {},
   "outputs": [],
   "source": [
    "#function to plot least frequent terms\n",
    "def rare_words(x, terms = 30):\n",
    "    all_words = ' '.join([text for text in x])\n",
    "    all_words = all_words.split()\n",
    "    fdist = FreqDist(all_words)\n",
    "    words_df = pd.DataFrame({'word':list(fdist.keys()),\n",
    "                             'count':list(fdist.values())})\n",
    "    #selecting top 30 most freq words\n",
    "    d = words_df.nsmallest(columns = 'count', n = terms)\n",
    "    plt.figure(figsize = (20,10))\n",
    "    ax = sns.barplot(data = d, x='count', y='word')\n",
    "    ax.set(ylabel = 'Word')\n",
    "    plt.show()"
   ]
  },
  {
   "cell_type": "code",
   "execution_count": 53,
   "id": "65bd2484",
   "metadata": {},
   "outputs": [
    {
     "data": {
      "image/png": "[encoded data removed]",
      "text/plain": [
       "<Figure size 1440x720 with 1 Axes>"
      ]
     },
     "metadata": {},
     "output_type": "display_data"
    }
   ],
   "source": [
    "rare_words(df['Review'])"
   ]
  },
  {
   "cell_type": "markdown",
   "id": "4f06fe78",
   "metadata": {},
   "source": [
    "Above list of words are have rare occurance in Review"
   ]
  },
  {
   "cell_type": "markdown",
   "id": "bd574d4c",
   "metadata": {},
   "source": [
    "# Model building evaluation"
   ]
  },
  {
   "cell_type": "code",
   "execution_count": 55,
   "id": "712687e3",
   "metadata": {},
   "outputs": [],
   "source": [
    "# Separating feature and label\n",
    "x = df['Review']\n",
    "y = df['Ratings']"
   ]
  },
  {
   "cell_type": "markdown",
   "id": "ae795bd6",
   "metadata": {},
   "source": [
    "# Converting text data into vectors using Tfidf Vectorizer:"
   ]
  },
  {
   "cell_type": "code",
   "execution_count": 56,
   "id": "84c10fd5",
   "metadata": {},
   "outputs": [],
   "source": [
    "#using the n_gram tfidf vectorizer(Word vectors)\n",
    "from sklearn.feature_extraction.text import TfidfVectorizer\n",
    "word_vectorizer = TfidfVectorizer(\n",
    "                                sublinear_tf = True,\n",
    "                                strip_accents = 'unicode',\n",
    "                                analyzer = 'word',\n",
    "                                token_pattern = r'\\w{1,}',\n",
    "                                stop_words = 'english',\n",
    "                                ngram_range = (1,3),\n",
    "                                max_features = 100000)\n",
    "word_vectorizer.fit(x)\n",
    "train_word_features = word_vectorizer.transform(x)"
   ]
  },
  {
   "cell_type": "code",
   "execution_count": 57,
   "id": "445b1568",
   "metadata": {},
   "outputs": [],
   "source": [
    "#Character vectorizer\n",
    "char_vectorizer = TfidfVectorizer(\n",
    "                                sublinear_tf = True,\n",
    "                                strip_accents = 'unicode',\n",
    "                                analyzer = 'char',\n",
    "                                stop_words = 'english',\n",
    "                                ngram_range = (2,6),\n",
    "                                max_features = 50000)\n",
    "char_vectorizer.fit(x)\n",
    "train_char_features = char_vectorizer.transform(x)"
   ]
  },
  {
   "cell_type": "code",
   "execution_count": 58,
   "id": "6e8285bb",
   "metadata": {},
   "outputs": [],
   "source": [
    "#we will combine both word vectors and character vectors as input for our model\n",
    "from scipy.sparse import hstack\n",
    "train_features = hstack([train_char_features,train_word_features])"
   ]
  },
  {
   "cell_type": "markdown",
   "id": "a8182407",
   "metadata": {},
   "source": [
    "# Splitting the data into train and test:"
   ]
  },
  {
   "cell_type": "code",
   "execution_count": 59,
   "id": "fab9d192",
   "metadata": {},
   "outputs": [],
   "source": [
    "# Splitting train and test data\n",
    "seed = 1\n",
    "x_train, x_test, y_train, y_test = train_test_split(train_features, y, test_size = 0.25, random_state = seed)"
   ]
  },
  {
   "cell_type": "markdown",
   "id": "937aba1e",
   "metadata": {},
   "source": [
    "# Data Balancing:"
   ]
  },
  {
   "cell_type": "code",
   "execution_count": 60,
   "id": "86007d19",
   "metadata": {},
   "outputs": [
    {
     "name": "stdout",
     "output_type": "stream",
     "text": [
      "x_train (32343, 150000)\n",
      "x_test (10781, 150000)\n",
      "y_train (32343,)\n",
      "y_test (10781,)\n"
     ]
    }
   ],
   "source": [
    "#lets check the shapes of traning and test data\n",
    "print(\"x_train\", x_train.shape)\n",
    "print(\"x_test\", x_test.shape)\n",
    "print(\"y_train\", y_train.shape)\n",
    "print(\"y_test\", y_test.shape)"
   ]
  },
  {
   "cell_type": "code",
   "execution_count": 61,
   "id": "f7bf2a6f",
   "metadata": {},
   "outputs": [
    {
     "data": {
      "text/plain": [
       "5    18935\n",
       "4     7639\n",
       "1     6390\n",
       "3     5546\n",
       "2     4614\n",
       "Name: Ratings, dtype: int64"
      ]
     },
     "execution_count": 61,
     "metadata": {},
     "output_type": "execute_result"
    }
   ],
   "source": [
    "#Checking the value counts of Ratings column\n",
    "y.value_counts()"
   ]
  },
  {
   "cell_type": "code",
   "execution_count": 62,
   "id": "6ff53695",
   "metadata": {},
   "outputs": [
    {
     "name": "stdout",
     "output_type": "stream",
     "text": [
      "The number of classes before fitCounter({5: 14200, 4: 5753, 1: 4754, 3: 4149, 2: 3487})\n"
     ]
    }
   ],
   "source": [
    "#Checking the number of classes before fit\n",
    "from collections import Counter\n",
    "print(\"The number of classes before fit{}\".format(Counter(y_train)))"
   ]
  },
  {
   "cell_type": "code",
   "execution_count": 63,
   "id": "06ccf62e",
   "metadata": {},
   "outputs": [
    {
     "name": "stdout",
     "output_type": "stream",
     "text": [
      "The number of classes before fitCounter({5: 14200, 4: 5753, 1: 4754, 3: 4149, 2: 3487})\n",
      "The number of classes after fit Counter({2: 37633, 5: 37633, 4: 37633, 3: 37633, 1: 37633})\n"
     ]
    }
   ],
   "source": [
    "# Oversample and plot imbalanced dataset with SMOTE\n",
    "from sklearn.datasets import make_classification\n",
    "from imblearn.over_sampling import SMOTE\n",
    "\n",
    "# transforming the dataset\n",
    "os=SMOTE(sampling_strategy = {1: 37633, 2: 37633, 3: 37633, 4: 37633, 5: 37633})\n",
    "x_train_ns,y_train_ns=os.fit_resample(x_train,y_train)\n",
    "\n",
    "print(\"The number of classes before fit{}\".format(Counter(y_train)))\n",
    "print(\"The number of classes after fit {}\".format(Counter(y_train_ns)))"
   ]
  },
  {
   "cell_type": "code",
   "execution_count": 64,
   "id": "5326369f",
   "metadata": {},
   "outputs": [
    {
     "name": "stdout",
     "output_type": "stream",
     "text": [
      "The number of classes before fitCounter({5: 14200, 4: 5753, 1: 4754, 3: 4149, 2: 3487})\n",
      "The number of classes after fit Counter({2: 37633, 5: 37633, 4: 37633, 3: 37633, 1: 37633})\n"
     ]
    }
   ],
   "source": [
    "# Oversample and plot imbalanced dataset with SMOTE\n",
    "from sklearn.datasets import make_classification\n",
    "from imblearn.over_sampling import SMOTE\n",
    "\n",
    "# transforming the dataset\n",
    "os=SMOTE(sampling_strategy = {1: 37633, 2: 37633, 3: 37633, 4: 37633, 5: 37633})\n",
    "x_train_ns,y_train_ns=os.fit_resample(x_train,y_train)\n",
    "\n",
    "print(\"The number of classes before fit{}\".format(Counter(y_train)))\n",
    "print(\"The number of classes after fit {}\".format(Counter(y_train_ns)))"
   ]
  },
  {
   "cell_type": "code",
   "execution_count": 65,
   "id": "b7d6cb76",
   "metadata": {},
   "outputs": [],
   "source": [
    "from sklearn.svm import LinearSVC\n",
    "from sklearn.ensemble import RandomForestClassifier\n",
    "from sklearn.tree import DecisionTreeClassifier\n",
    "from sklearn.linear_model import LogisticRegression\n",
    "from sklearn.ensemble import GradientBoostingClassifier, AdaBoostClassifier\n",
    "from sklearn.naive_bayes import MultinomialNB, GaussianNB,BernoulliNB\n",
    "from sklearn.linear_model import SGDClassifier\n",
    "from sklearn.model_selection import GridSearchCV"
   ]
  },
  {
   "cell_type": "code",
   "execution_count": 66,
   "id": "20b54001",
   "metadata": {},
   "outputs": [],
   "source": [
    "# defining the algorithms\n",
    "rf = RandomForestClassifier()\n",
    "DTC = DecisionTreeClassifier()\n",
    "svc = LinearSVC()\n",
    "lr = LogisticRegression(solver='lbfgs')\n",
    "mnb = MultinomialNB()\n",
    "bnb = BernoulliNB()\n",
    "sgd = SGDClassifier()"
   ]
  },
  {
   "cell_type": "code",
   "execution_count": 67,
   "id": "eb29aca6",
   "metadata": {},
   "outputs": [],
   "source": [
    "#creating a function to train and test the model with evaluation\n",
    "def BuiltModel(model):\n",
    "    print('*'*30+model.__class__.__name__+'*'*30)\n",
    "    model.fit(x_train_ns,y_train_ns)\n",
    "    y_pred = model.predict(x_train_ns)\n",
    "    pred = model.predict(x_test)\n",
    "\n",
    "    accuracy = accuracy_score(y_test,pred)*100\n",
    "\n",
    "    print(f\"Accuracy Score:\", accuracy)\n",
    "    print(\"---------------------------------------------------\")\n",
    "\n",
    "    #confusion matrix & classification report\n",
    "    \n",
    "    print(f\"CLASSIFICATION REPORT : \\n {classification_report(y_test,pred)}\")\n",
    "    print(f\"Confusion Matrix : \\n {confusion_matrix(y_test,pred)}\\n\")"
   ]
  },
  {
   "cell_type": "code",
   "execution_count": 68,
   "id": "b98c6beb",
   "metadata": {},
   "outputs": [
    {
     "name": "stdout",
     "output_type": "stream",
     "text": [
      "******************************LogisticRegression******************************\n",
      "Accuracy Score: 68.10128930525924\n",
      "---------------------------------------------------\n",
      "CLASSIFICATION REPORT : \n",
      "               precision    recall  f1-score   support\n",
      "\n",
      "           1       0.67      0.69      0.68      1636\n",
      "           2       0.40      0.40      0.40      1127\n",
      "           3       0.44      0.47      0.46      1397\n",
      "           4       0.55      0.63      0.59      1886\n",
      "           5       0.90      0.83      0.86      4735\n",
      "\n",
      "    accuracy                           0.68     10781\n",
      "   macro avg       0.59      0.60      0.60     10781\n",
      "weighted avg       0.69      0.68      0.69     10781\n",
      "\n",
      "Confusion Matrix : \n",
      " [[1136  291  147   41   21]\n",
      " [ 308  449  235  110   25]\n",
      " [ 158  244  660  256   79]\n",
      " [  42   81  276 1180  307]\n",
      " [  44   48  169  557 3917]]\n",
      "\n",
      "******************************LinearSVC******************************\n",
      "Accuracy Score: 68.23114738892497\n",
      "---------------------------------------------------\n",
      "CLASSIFICATION REPORT : \n",
      "               precision    recall  f1-score   support\n",
      "\n",
      "           1       0.66      0.70      0.68      1636\n",
      "           2       0.39      0.36      0.38      1127\n",
      "           3       0.44      0.43      0.44      1397\n",
      "           4       0.57      0.59      0.58      1886\n",
      "           5       0.87      0.86      0.86      4735\n",
      "\n",
      "    accuracy                           0.68     10781\n",
      "   macro avg       0.59      0.59      0.59     10781\n",
      "weighted avg       0.68      0.68      0.68     10781\n",
      "\n",
      "Confusion Matrix : \n",
      " [[1148  274  137   39   38]\n",
      " [ 323  407  233  107   57]\n",
      " [ 173  226  604  262  132]\n",
      " [  46   84  249 1122  385]\n",
      " [  44   52  140  424 4075]]\n",
      "\n",
      "******************************DecisionTreeClassifier******************************\n",
      "Accuracy Score: 61.94230590854281\n",
      "---------------------------------------------------\n",
      "CLASSIFICATION REPORT : \n",
      "               precision    recall  f1-score   support\n",
      "\n",
      "           1       0.60      0.57      0.58      1636\n",
      "           2       0.33      0.36      0.34      1127\n",
      "           3       0.37      0.40      0.38      1397\n",
      "           4       0.53      0.53      0.53      1886\n",
      "           5       0.82      0.80      0.81      4735\n",
      "\n",
      "    accuracy                           0.62     10781\n",
      "   macro avg       0.53      0.53      0.53     10781\n",
      "weighted avg       0.63      0.62      0.62     10781\n",
      "\n",
      "Confusion Matrix : \n",
      " [[ 934  343  196   74   89]\n",
      " [ 271  401  230  105  120]\n",
      " [ 172  233  560  237  195]\n",
      " [  98  126  259  996  407]\n",
      " [  84  108  279  477 3787]]\n",
      "\n",
      "******************************SGDClassifier******************************\n",
      "Accuracy Score: 67.86012429273723\n",
      "---------------------------------------------------\n",
      "CLASSIFICATION REPORT : \n",
      "               precision    recall  f1-score   support\n",
      "\n",
      "           1       0.63      0.76      0.69      1636\n",
      "           2       0.38      0.37      0.38      1127\n",
      "           3       0.47      0.44      0.45      1397\n",
      "           4       0.55      0.59      0.57      1886\n",
      "           5       0.89      0.83      0.86      4735\n",
      "\n",
      "    accuracy                           0.68     10781\n",
      "   macro avg       0.59      0.60      0.59     10781\n",
      "weighted avg       0.69      0.68      0.68     10781\n",
      "\n",
      "Confusion Matrix : \n",
      " [[1244  229   99   39   25]\n",
      " [ 381  416  193   96   41]\n",
      " [ 203  256  613  243   82]\n",
      " [  76  107  254 1121  328]\n",
      " [  74   74  144  521 3922]]\n",
      "\n",
      "******************************RandomForestClassifier******************************\n",
      "Accuracy Score: 68.85261107503942\n",
      "---------------------------------------------------\n",
      "CLASSIFICATION REPORT : \n",
      "               precision    recall  f1-score   support\n",
      "\n",
      "           1       0.63      0.78      0.70      1636\n",
      "           2       0.42      0.36      0.39      1127\n",
      "           3       0.49      0.43      0.46      1397\n",
      "           4       0.57      0.59      0.58      1886\n",
      "           5       0.87      0.85      0.86      4735\n",
      "\n",
      "    accuracy                           0.69     10781\n",
      "   macro avg       0.60      0.60      0.60     10781\n",
      "weighted avg       0.69      0.69      0.69     10781\n",
      "\n",
      "Confusion Matrix : \n",
      " [[1274  184  101   45   32]\n",
      " [ 390  405  185   98   49]\n",
      " [ 209  222  605  233  128]\n",
      " [  69   99  228 1122  368]\n",
      " [  68   49  128  473 4017]]\n",
      "\n"
     ]
    }
   ],
   "source": [
    "# Running multiple algorithms\n",
    "for model in [lr,svc,DTC,sgd,rf]:\n",
    "    BuiltModel(model)"
   ]
  },
  {
   "cell_type": "markdown",
   "id": "f0059fed",
   "metadata": {},
   "source": [
    "# Cross validation score:"
   ]
  },
  {
   "cell_type": "code",
   "execution_count": 69,
   "id": "3914e914",
   "metadata": {},
   "outputs": [],
   "source": [
    "# Defning function cross_val to find cv score of models\n",
    "def cross_val(model):\n",
    "    print('*'*30+model.__class__.__name__+'*'*30)\n",
    "    scores = cross_val_score(model,train_features,y, cv = 3).mean()*100\n",
    "    print(\"Cross validation score :\", scores)"
   ]
  },
  {
   "cell_type": "code",
   "execution_count": 74,
   "id": "39501ad2",
   "metadata": {},
   "outputs": [
    {
     "name": "stdout",
     "output_type": "stream",
     "text": [
      "******************************LogisticRegression******************************\n",
      "Cross validation score : 59.950444986217065\n",
      "******************************LinearSVC******************************\n",
      "Cross validation score : 58.86521662502546\n",
      "******************************DecisionTreeClassifier******************************\n",
      "Cross validation score : 50.927553170680554\n",
      "******************************SGDClassifier******************************\n",
      "Cross validation score : 60.06634942720653\n",
      "******************************RandomForestClassifier******************************\n",
      "Cross validation score : 58.5613730104476\n"
     ]
    }
   ],
   "source": [
    "for model in [lr,svc,DTC,sgd,rf]:\n",
    "    cross_val (model)"
   ]
  },
  {
   "cell_type": "markdown",
   "id": "c7e1a431",
   "metadata": {},
   "source": [
    "# HyperParameter Tuning:"
   ]
  },
  {
   "cell_type": "code",
   "execution_count": 75,
   "id": "204ab3b7",
   "metadata": {},
   "outputs": [],
   "source": [
    "# let's selects different parameters for tuning\n",
    "grid_params = {\n",
    "                'penalty':['l2','l1','elasticnet'],\n",
    "                'loss':['hinge','squared_hinge'],\n",
    "                'n_jobs':[-1,1]\n",
    "                }"
   ]
  },
  {
   "cell_type": "code",
   "execution_count": 76,
   "id": "5d138ef2",
   "metadata": {},
   "outputs": [],
   "source": [
    "# Training the model with the given parameters using GridSearchCV\n",
    "GCV =  GridSearchCV(sgd, grid_params, cv = 3, scoring='accuracy',n_jobs=-1,verbose=2)"
   ]
  },
  {
   "cell_type": "code",
   "execution_count": 77,
   "id": "9c59adb4",
   "metadata": {},
   "outputs": [
    {
     "name": "stdout",
     "output_type": "stream",
     "text": [
      "Fitting 3 folds for each of 12 candidates, totalling 36 fits\n"
     ]
    },
    {
     "data": {
      "text/plain": [
       "GridSearchCV(cv=3, estimator=SGDClassifier(), n_jobs=-1,\n",
       "             param_grid={'loss': ['hinge', 'squared_hinge'], 'n_jobs': [-1, 1],\n",
       "                         'penalty': ['l2', 'l1', 'elasticnet']},\n",
       "             scoring='accuracy', verbose=2)"
      ]
     },
     "execution_count": 77,
     "metadata": {},
     "output_type": "execute_result"
    }
   ],
   "source": [
    "GCV.fit(x_train,y_train)"
   ]
  },
  {
   "cell_type": "code",
   "execution_count": 78,
   "id": "e4b9061b",
   "metadata": {},
   "outputs": [
    {
     "data": {
      "text/plain": [
       "{'loss': 'hinge', 'n_jobs': -1, 'penalty': 'l2'}"
      ]
     },
     "execution_count": 78,
     "metadata": {},
     "output_type": "execute_result"
    }
   ],
   "source": [
    "# Printing the best parameters found by GridSearchCV\n",
    "GCV.best_params_"
   ]
  },
  {
   "cell_type": "markdown",
   "id": "e676fcdc",
   "metadata": {},
   "source": [
    "# Final Model:"
   ]
  },
  {
   "cell_type": "code",
   "execution_count": 79,
   "id": "ab475ab9",
   "metadata": {},
   "outputs": [
    {
     "name": "stdout",
     "output_type": "stream",
     "text": [
      "Accuracy Score : 63.89017716352843\n",
      "\n",
      "Confusion Matrix : \n",
      " [[1014  302  162   96   62]\n",
      " [ 297  370  238  136   86]\n",
      " [ 173  238  546  265  175]\n",
      " [  68  108  253 1014  443]\n",
      " [  69   75  200  447 3944]]\n",
      "\n",
      "\n",
      "CLASSIFICATION REPORT : \n",
      "               precision    recall  f1-score   support\n",
      "\n",
      "           1       0.63      0.62      0.62      1636\n",
      "           2       0.34      0.33      0.33      1127\n",
      "           3       0.39      0.39      0.39      1397\n",
      "           4       0.52      0.54      0.53      1886\n",
      "           5       0.84      0.83      0.84      4735\n",
      "\n",
      "    accuracy                           0.64     10781\n",
      "   macro avg       0.54      0.54      0.54     10781\n",
      "weighted avg       0.64      0.64      0.64     10781\n",
      "\n"
     ]
    }
   ],
   "source": [
    "# Training our final model with above best parameters\n",
    "model = SGDClassifier(loss = 'squared_hinge', n_jobs = -1, penalty = 'l1')\n",
    "model.fit(x_train_ns,y_train_ns) #fitting data to model\n",
    "pred = model.predict(x_test)\n",
    "accuracy = accuracy_score(y_test,pred)*100\n",
    "\n",
    "# Printing accuracy score\n",
    "print(\"Accuracy Score :\", accuracy)\n",
    "\n",
    "# Printing Confusion matrix\n",
    "print(f\"\\nConfusion Matrix : \\n {confusion_matrix(y_test,pred)}\\n\")\n",
    "\n",
    "# Printing Classification report\n",
    "print(f\"\\nCLASSIFICATION REPORT : \\n {classification_report(y_test,pred)}\")"
   ]
  },
  {
   "cell_type": "markdown",
   "id": "b07241b7",
   "metadata": {},
   "source": [
    "# Model Saving:"
   ]
  },
  {
   "cell_type": "code",
   "execution_count": 80,
   "id": "0d5a4907",
   "metadata": {},
   "outputs": [
    {
     "data": {
      "text/plain": [
       "['Ratings_RP.pkl']"
      ]
     },
     "execution_count": 80,
     "metadata": {},
     "output_type": "execute_result"
    }
   ],
   "source": [
    "import joblib\n",
    "joblib.dump(model,\"Ratings_RP.pkl\")"
   ]
  },
  {
   "cell_type": "markdown",
   "id": "21638557",
   "metadata": {},
   "source": [
    "Finally I have saved the model into .pkl file."
   ]
  },
  {
   "cell_type": "code",
   "execution_count": null,
   "id": "71e8d1ec",
   "metadata": {},
   "outputs": [],
   "source": []
  }
 ],
 "metadata": {
  "kernelspec": {
   "display_name": "Python 3",
   "language": "python",
   "name": "python3"
  },
  "language_info": {
   "codemirror_mode": {
    "name": "ipython",
    "version": 3
   },
   "file_extension": ".py",
   "mimetype": "text/x-python",
   "name": "python",
   "nbconvert_exporter": "python",
   "pygments_lexer": "ipython3",
   "version": "3.8.8"
  }
 },
 "nbformat": 4,
 "nbformat_minor": 5
}
